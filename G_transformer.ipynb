{
 "cells": [
  {
   "cell_type": "code",
   "execution_count": 2,
   "id": "036ff64a",
   "metadata": {},
   "outputs": [],
   "source": [
    "import torch\n",
    "import torch.nn as nn\n",
    "import torch.nn.functional as F\n",
    "import numpy as np\n",
    "from scipy.sparse import csgraph\n",
    "from scipy.sparse.linalg import eigsh"
   ]
  },
  {
   "cell_type": "code",
   "execution_count": 3,
   "id": "28b69c24",
   "metadata": {},
   "outputs": [
    {
     "name": "stderr",
     "output_type": "stream",
     "text": [
      "C:\\Users\\Soham\\AppData\\Roaming\\Python\\Python311\\site-packages\\tqdm\\auto.py:21: TqdmWarning: IProgress not found. Please update jupyter and ipywidgets. See https://ipywidgets.readthedocs.io/en/stable/user_install.html\n",
      "  from .autonotebook import tqdm as notebook_tqdm\n"
     ]
    }
   ],
   "source": [
    "from torch_geometric.data import Data\n",
    "import networkx as nx\n",
    "import random\n",
    "import copy\n",
    "from torch_geometric.utils import to_networkx"
   ]
  },
  {
   "cell_type": "code",
   "execution_count": 21,
   "id": "fc1e2fad",
   "metadata": {},
   "outputs": [],
   "source": [
    "from torch.utils.data import Dataset, DataLoader\n",
    "\n",
    "class MaskedGraphDataset(Dataset):\n",
    "    def __init__(self, graph_data_obj_ls, subgraph_data_obj_ls):\n",
    "        self.inputs = []\n",
    "        self.targets = []\n",
    "\n",
    "        for full_graph, masked_versions in zip(graph_data_obj_ls, subgraph_data_obj_ls):\n",
    "            for masked_graph in masked_versions:\n",
    "                self.inputs.append(masked_graph)  # G''\n",
    "                self.targets.append(full_graph)   # G'\n",
    "\n",
    "    def __len__(self):\n",
    "        return len(self.inputs)\n",
    "\n",
    "    def __getitem__(self, idx):\n",
    "        input_graph = self.inputs[idx]\n",
    "        target_graph = self.targets[idx]\n",
    "\n",
    "        # Ensure that all tensors are returned\n",
    "        return {\n",
    "            'input': input_graph,\n",
    "            'target': target_graph\n",
    "        }\n"
   ]
  },
  {
   "cell_type": "code",
   "execution_count": 22,
   "id": "86bcecc1",
   "metadata": {},
   "outputs": [],
   "source": [
    "inc_matrix_aug = np.loadtxt(\"Aug_inc_matrix\")\n",
    "inc_matrix_aug = inc_matrix_aug.reshape(-1,50)\n",
    "\n",
    "num_nodes, num_edges = inc_matrix_aug.shape\n",
    "\n",
    "# --- Step 2: Convert to edge_index for PyG (multi-edges allowed) ---\n",
    "edge_list = []\n",
    "for j in range(num_edges):\n",
    "    col = inc_matrix_aug[:, j]\n",
    "    src = np.where(col == -1)[0]\n",
    "    dst = np.where(col == 1)[0]\n",
    "    if len(src) == 1 and len(dst) == 1:\n",
    "        edge_list.append((src[0], dst[0]))  # directed edge\n",
    "\n",
    "edge_index = torch.tensor(edge_list, dtype=torch.long).t().contiguous()  # shape [2, num_edges]\n",
    "x = torch.eye(45, dtype=torch.float)\n",
    "\n",
    "# --- Step 3: Create PyG Data object ---\n",
    "data_inp= Data(x=x, edge_index=edge_index)\n",
    "\n",
    "\n",
    "def pyg_data_to_nx_multigraph(data):\n",
    "    G = nx.MultiDiGraph()\n",
    "\n",
    "    # Step 1: Add all nodes with features\n",
    "    for i in range(data.num_nodes):\n",
    "        G.add_node(i, x=data.x[i].tolist())  # attach node features\n",
    "\n",
    "    # Step 2: Add all edges (with support for multiple edges)\n",
    "    edge_list = data.edge_index.t().tolist()\n",
    "    G.add_edges_from(edge_list)\n",
    "\n",
    "    return G\n",
    "G = pyg_data_to_nx_multigraph(data=data_inp)\n",
    "def generate_connected_subgraphs(G, k, n, seed=None):\n",
    "    if seed is not None:\n",
    "        random.seed(seed)\n",
    "\n",
    "    if G.number_of_nodes() <= k:\n",
    "        raise ValueError(\"Cannot remove more nodes than exist in the graph.\")\n",
    "\n",
    "    subgraphs = []\n",
    "    attempts = 0\n",
    "    max_attempts = 100 * n  # safety to avoid infinite loops\n",
    "\n",
    "    while len(subgraphs) < n and attempts < max_attempts:\n",
    "        attempts += 1\n",
    "        nodes_to_remove = random.sample(list(G.nodes()), k)\n",
    "        G_sub = G.copy()\n",
    "        G_sub.remove_nodes_from(nodes_to_remove)\n",
    "\n",
    "        if nx.is_weakly_connected(G_sub):\n",
    "            subgraphs.append(G_sub)\n",
    "\n",
    "    return subgraphs\n",
    "graph_data_obj_ls = []\n",
    "subgraph_ls = []\n",
    "for k in range(5):\n",
    "    subgraphs = generate_connected_subgraphs(G, k, n=10, seed=123)\n",
    "    subgraph_ls.extend(subgraphs)\n",
    "\n",
    "for nx_graph in subgraph_ls:\n",
    "    # Get all edges with duplicates preserved\n",
    "    edge_list = [(u, v) for u, v, _ in nx_graph.edges(keys=True)]\n",
    "    edge_index = torch.tensor(edge_list, dtype=torch.long).t().contiguous()\n",
    "\n",
    "    # Build identity features using original node indices\n",
    "    all_nodes = list(nx_graph.nodes())\n",
    "    num_nodes_global = 45\n",
    "    x = torch.eye(num_nodes_global)  # [45, 45]\n",
    "    node_mask = torch.zeros_like(x)  # [45, 45]\n",
    "\n",
    "    for node in all_nodes:\n",
    "        node_mask[node] = x[node]  # Keep features only for nodes in this subgraph\n",
    "\n",
    "    x_subset = node_mask\n",
    "\n",
    "    data = Data(x=x_subset, edge_index=edge_index)\n",
    "    graph_data_obj_ls.append(data)\n",
    "subgraph_data_obj_ls = []\n",
    "\n",
    "for data in graph_data_obj_ls:\n",
    "    G_nx = to_networkx(data, to_undirected=False)\n",
    "    incidence_matrix = nx.incidence_matrix(G_nx, oriented=True).toarray()\n",
    "    rank = np.linalg.matrix_rank(incidence_matrix)\n",
    "    num_edges = data.edge_index.size(1)\n",
    "    num_nodes = data.num_nodes\n",
    "\n",
    "    masked_graphs_per_data = []\n",
    "\n",
    "    for edges_to_remove in range(rank, min(rank + 6, num_edges)):\n",
    "        for _ in range(15):\n",
    "            if num_edges <= edges_to_remove:\n",
    "                continue\n",
    "\n",
    "            data_copy = copy.deepcopy(data)\n",
    "\n",
    "            # -------------------------------\n",
    "            # 1. Mask edges\n",
    "            edge_indices = list(range(num_edges))\n",
    "            to_remove = random.sample(edge_indices, edges_to_remove)\n",
    "            mask = torch.ones(num_edges, dtype=torch.bool)\n",
    "            mask[to_remove] = False\n",
    "            data_copy.edge_index = data.edge_index[:, mask]\n",
    "\n",
    "            if hasattr(data, 'edge_attr') and data.edge_attr is not None:\n",
    "                data_copy.edge_attr = data.edge_attr[mask]\n",
    "\n",
    "            # -------------------------------\n",
    "            # 2. Mask nodes (retain ~90% randomly)\n",
    "            node_mask = torch.ones(45, dtype=torch.bool)\n",
    "            total_nodes = 45\n",
    "            num_nodes_to_mask = int(0.1 * total_nodes)\n",
    "            nodes_to_mask = random.sample(range(45), num_nodes_to_mask)\n",
    "            node_mask[nodes_to_mask] = False\n",
    "\n",
    "            data_copy.masked_nodes = node_mask  # Add this attribute to use later\n",
    "\n",
    "            masked_graphs_per_data.append(data_copy)\n",
    "\n",
    "    subgraph_data_obj_ls.append(masked_graphs_per_data)"
   ]
  },
  {
   "cell_type": "code",
   "execution_count": 23,
   "id": "29ff286c",
   "metadata": {},
   "outputs": [],
   "source": [
    "from torch.utils.data import random_split\n",
    "\n",
    "# Create full dataset\n",
    "full_dataset = MaskedGraphDataset(graph_data_obj_ls, subgraph_data_obj_ls)\n",
    "\n",
    "# Split: 80% train, 20% validation\n",
    "train_size = int(0.8 * len(full_dataset))\n",
    "val_size = len(full_dataset) - train_size\n",
    "train_dataset, val_dataset = random_split(full_dataset, [train_size, val_size], generator=torch.Generator().manual_seed(42))\n",
    "\n",
    "# PyTorch Geometric uses a custom collate_fn\n",
    "from torch_geometric.loader import DataLoader as PyGDataLoader\n",
    "\n",
    "train_loader = PyGDataLoader(train_dataset, batch_size=8, shuffle=True)\n",
    "val_loader = PyGDataLoader(val_dataset, batch_size=8, shuffle=False)\n"
   ]
  },
  {
   "cell_type": "code",
   "execution_count": 24,
   "id": "5137adf6",
   "metadata": {},
   "outputs": [],
   "source": [
    "import torch.nn as nn\n",
    "from torch_geometric.nn import TransformerConv\n",
    "from torch_geometric.utils import to_dense_batch\n",
    "\n",
    "class GraphTransformer(nn.Module):\n",
    "    def __init__(self, num_nodes=45, in_dim=45, hidden_dim=128, num_heads=4, num_layers=3):\n",
    "        super(GraphTransformer, self).__init__()\n",
    "        self.num_nodes = num_nodes\n",
    "        self.in_dim = in_dim\n",
    "        self.hidden_dim = hidden_dim\n",
    "\n",
    "        # Initial projection (optional: can be identity if x is one-hot)\n",
    "        self.input_proj = nn.Linear(in_dim, hidden_dim)\n",
    "\n",
    "        # Stack of TransformerConv layers\n",
    "        self.transformer_layers = nn.ModuleList([\n",
    "            TransformerConv(hidden_dim, hidden_dim // num_heads, heads=num_heads, dropout=0.1)\n",
    "            for _ in range(num_layers)\n",
    "        ])\n",
    "\n",
    "        # Output projections\n",
    "        self.node_predictor = nn.Linear(hidden_dim, in_dim)  # for masked node reconstruction\n",
    "        self.edge_predictor = nn.Bilinear(hidden_dim, hidden_dim, 1)  # for link prediction\n",
    "\n",
    "    def forward(self, data):\n",
    "        x, edge_index = data.x, data.edge_index\n",
    "        x = self.input_proj(x)  # shape: [num_nodes, hidden_dim]\n",
    "\n",
    "        for layer in self.transformer_layers:\n",
    "            x = layer(x, edge_index).relu()\n",
    "\n",
    "        # -------- Node Prediction --------\n",
    "        if hasattr(data, 'masked_nodes'):\n",
    "            masked_nodes = data.masked_nodes.bool()\n",
    "            node_logits = self.node_predictor(x)  # shape: [num_nodes, 45]\n",
    "        else:\n",
    "            node_logits = None\n",
    "\n",
    "        # -------- Edge Prediction --------\n",
    "        # Predict edge logits for all pairs\n",
    "        edge_logits = torch.matmul(x, x.T)  # [num_nodes, num_nodes]\n",
    "        edge_logits = torch.sigmoid(edge_logits)\n",
    "\n",
    "        return {\n",
    "            'node_logits': node_logits,\n",
    "            'edge_logits': edge_logits,\n",
    "            'final_node_embeddings': x\n",
    "        }\n"
   ]
  },
  {
   "cell_type": "code",
   "execution_count": 25,
   "id": "2547a159",
   "metadata": {},
   "outputs": [],
   "source": [
    "def node_reconstruction_loss(output_logits, target_x, masked_nodes):\n",
    "    \"\"\"\n",
    "    output_logits: [num_nodes, 45]\n",
    "    target_x:      [num_nodes, 45]\n",
    "    masked_nodes:  [num_nodes] (bool)\n",
    "    \"\"\"\n",
    "    loss_fn = nn.CrossEntropyLoss()\n",
    "    # Convert one-hot targets to class indices\n",
    "    target_classes = target_x.argmax(dim=1)\n",
    "    # Only use masked node indices\n",
    "    masked_indices = masked_nodes.nonzero(as_tuple=True)[0]\n",
    "    return loss_fn(output_logits[masked_indices], target_classes[masked_indices])\n",
    "\n",
    "def edge_reconstruction_loss(pred_adj, target_edge_index, num_nodes):\n",
    "    \"\"\"\n",
    "    pred_adj: [num_nodes, num_nodes] - predicted link logits\n",
    "    target_edge_index: [2, num_edges]\n",
    "    \"\"\"\n",
    "    # Create ground-truth adjacency matrix\n",
    "    true_adj = torch.zeros_like(pred_adj)\n",
    "    true_adj[target_edge_index[0], target_edge_index[1]] = 1.0\n",
    "\n",
    "    # Binary Cross-Entropy over all pairs\n",
    "    loss_fn = nn.BCELoss()\n",
    "    return loss_fn(pred_adj.view(-1), true_adj.view(-1))\n"
   ]
  },
  {
   "cell_type": "code",
   "execution_count": 29,
   "id": "133db5dd",
   "metadata": {},
   "outputs": [],
   "source": [
    "def evaluate_batch_node_accuracy(node_logits, target_x, masked_nodes):\n",
    "    \"\"\"\n",
    "    node_logits: [num_nodes, 45]\n",
    "    target_x:    [num_nodes, 45]\n",
    "    masked_nodes: [num_nodes] (bool)\n",
    "    \"\"\"\n",
    "    target_classes = target_x.argmax(dim=1)              # [num_nodes]\n",
    "    predicted_classes = node_logits.argmax(dim=1)        # [num_nodes]\n",
    "\n",
    "    masked_indices = masked_nodes.nonzero(as_tuple=True)[0]\n",
    "    masked_targets = target_classes[masked_indices]\n",
    "    masked_preds = predicted_classes[masked_indices]\n",
    "\n",
    "    correct = (masked_targets == masked_preds).sum().item()\n",
    "    total = masked_targets.size(0)\n",
    "\n",
    "    return correct, total"
   ]
  },
  {
   "cell_type": "code",
   "execution_count": 30,
   "id": "4501ae15",
   "metadata": {},
   "outputs": [],
   "source": [
    "from tqdm import tqdm\n",
    "\n",
    "def train(model, dataloader, optimizer, device):\n",
    "    model.train()\n",
    "    \n",
    "    total_loss = 0\n",
    "    correct_masked = 0\n",
    "    total_masked = 0\n",
    "    \n",
    "    for batch in tqdm(dataloader):\n",
    "        data = batch['input'].to(device)\n",
    "        target = batch['target'].to(device)\n",
    "\n",
    "        optimizer.zero_grad()\n",
    "        output = model(data)\n",
    "\n",
    "        node_loss = node_reconstruction_loss(\n",
    "            output['node_logits'],\n",
    "            target.x,\n",
    "            data.masked_nodes\n",
    "        )\n",
    "\n",
    "        edge_loss = edge_reconstruction_loss(\n",
    "            output['edge_logits'],\n",
    "            target.edge_index,\n",
    "            target.num_nodes\n",
    "        )\n",
    "\n",
    "        loss = node_loss + edge_loss\n",
    "        loss.backward()\n",
    "        optimizer.step()\n",
    "        total_loss += loss.item()\n",
    "        correct, total = evaluate_batch_node_accuracy(\n",
    "        output['node_logits'], target.x, data.masked_nodes\n",
    "    )\n",
    "        correct_masked += correct\n",
    "        total_masked += total\n",
    "\n",
    "    accuracy = 100.0 * correct_masked / max(1, total_masked)\n",
    "    print(f\"Train Loss = {total_loss:.4f} | Masked Node Accuracy = {accuracy:.2f}%\")\n",
    "\n",
    "    return total_loss / len(dataloader)\n"
   ]
  },
  {
   "cell_type": "code",
   "execution_count": 31,
   "id": "e918008c",
   "metadata": {},
   "outputs": [],
   "source": [
    "@torch.no_grad()\n",
    "def validate(model, dataloader, device):\n",
    "    model.eval()\n",
    "    total_loss = 0\n",
    "\n",
    "    for batch in dataloader:\n",
    "        data = batch['input'].to(device)\n",
    "        target = batch['target'].to(device)\n",
    "\n",
    "        output = model(data)\n",
    "\n",
    "        node_loss = node_reconstruction_loss(\n",
    "            output['node_logits'],\n",
    "            target.x,\n",
    "            data.masked_nodes\n",
    "        )\n",
    "\n",
    "        edge_loss = edge_reconstruction_loss(\n",
    "            output['edge_logits'],\n",
    "            target.edge_index,\n",
    "            target.num_nodes\n",
    "        )\n",
    "\n",
    "        loss = node_loss + edge_loss\n",
    "        total_loss += loss.item()\n",
    "\n",
    "    return total_loss / len(dataloader)\n"
   ]
  },
  {
   "cell_type": "code",
   "execution_count": 32,
   "id": "d97384a2",
   "metadata": {},
   "outputs": [
    {
     "name": "stderr",
     "output_type": "stream",
     "text": [
      "  0%|          | 0/405 [00:00<?, ?it/s]"
     ]
    },
    {
     "name": "stderr",
     "output_type": "stream",
     "text": [
      "100%|██████████| 405/405 [00:05<00:00, 68.80it/s]\n"
     ]
    },
    {
     "name": "stdout",
     "output_type": "stream",
     "text": [
      "Train Loss = 1036.9818 | Masked Node Accuracy = 88.54%\n",
      "Epoch 1: Train Loss = 2.5604, Val Loss = 1.4051\n"
     ]
    },
    {
     "name": "stderr",
     "output_type": "stream",
     "text": [
      "100%|██████████| 405/405 [00:05<00:00, 71.01it/s]\n"
     ]
    },
    {
     "name": "stdout",
     "output_type": "stream",
     "text": [
      "Train Loss = 490.3507 | Masked Node Accuracy = 100.00%\n",
      "Epoch 2: Train Loss = 1.2107, Val Loss = 1.0868\n"
     ]
    },
    {
     "name": "stderr",
     "output_type": "stream",
     "text": [
      "100%|██████████| 405/405 [00:05<00:00, 71.40it/s]\n"
     ]
    },
    {
     "name": "stdout",
     "output_type": "stream",
     "text": [
      "Train Loss = 414.9390 | Masked Node Accuracy = 100.00%\n",
      "Epoch 3: Train Loss = 1.0245, Val Loss = 0.9773\n"
     ]
    },
    {
     "name": "stderr",
     "output_type": "stream",
     "text": [
      "100%|██████████| 405/405 [00:05<00:00, 72.00it/s]\n"
     ]
    },
    {
     "name": "stdout",
     "output_type": "stream",
     "text": [
      "Train Loss = 382.6298 | Masked Node Accuracy = 100.00%\n",
      "Epoch 4: Train Loss = 0.9448, Val Loss = 0.9180\n"
     ]
    },
    {
     "name": "stderr",
     "output_type": "stream",
     "text": [
      "100%|██████████| 405/405 [00:05<00:00, 71.09it/s]\n"
     ]
    },
    {
     "name": "stdout",
     "output_type": "stream",
     "text": [
      "Train Loss = 363.2556 | Masked Node Accuracy = 100.00%\n",
      "Epoch 5: Train Loss = 0.8969, Val Loss = 0.8800\n"
     ]
    },
    {
     "name": "stderr",
     "output_type": "stream",
     "text": [
      "100%|██████████| 405/405 [00:05<00:00, 70.08it/s]\n"
     ]
    },
    {
     "name": "stdout",
     "output_type": "stream",
     "text": [
      "Train Loss = 350.6107 | Masked Node Accuracy = 100.00%\n",
      "Epoch 6: Train Loss = 0.8657, Val Loss = 0.8544\n"
     ]
    },
    {
     "name": "stderr",
     "output_type": "stream",
     "text": [
      "100%|██████████| 405/405 [00:05<00:00, 70.22it/s]\n"
     ]
    },
    {
     "name": "stdout",
     "output_type": "stream",
     "text": [
      "Train Loss = 341.6485 | Masked Node Accuracy = 100.00%\n",
      "Epoch 7: Train Loss = 0.8436, Val Loss = 0.8352\n"
     ]
    },
    {
     "name": "stderr",
     "output_type": "stream",
     "text": [
      "100%|██████████| 405/405 [00:05<00:00, 70.48it/s]\n"
     ]
    },
    {
     "name": "stdout",
     "output_type": "stream",
     "text": [
      "Train Loss = 334.8150 | Masked Node Accuracy = 100.00%\n",
      "Epoch 8: Train Loss = 0.8267, Val Loss = 0.8204\n"
     ]
    },
    {
     "name": "stderr",
     "output_type": "stream",
     "text": [
      "100%|██████████| 405/405 [00:05<00:00, 69.78it/s]\n"
     ]
    },
    {
     "name": "stdout",
     "output_type": "stream",
     "text": [
      "Train Loss = 329.4289 | Masked Node Accuracy = 100.00%\n",
      "Epoch 9: Train Loss = 0.8134, Val Loss = 0.8084\n"
     ]
    },
    {
     "name": "stderr",
     "output_type": "stream",
     "text": [
      "100%|██████████| 405/405 [00:05<00:00, 70.17it/s]\n"
     ]
    },
    {
     "name": "stdout",
     "output_type": "stream",
     "text": [
      "Train Loss = 324.9655 | Masked Node Accuracy = 100.00%\n",
      "Epoch 10: Train Loss = 0.8024, Val Loss = 0.7981\n"
     ]
    },
    {
     "name": "stderr",
     "output_type": "stream",
     "text": [
      "100%|██████████| 405/405 [00:05<00:00, 70.36it/s]\n"
     ]
    },
    {
     "name": "stdout",
     "output_type": "stream",
     "text": [
      "Train Loss = 321.0574 | Masked Node Accuracy = 100.00%\n",
      "Epoch 11: Train Loss = 0.7927, Val Loss = 0.7893\n"
     ]
    },
    {
     "name": "stderr",
     "output_type": "stream",
     "text": [
      "100%|██████████| 405/405 [00:05<00:00, 70.28it/s]\n"
     ]
    },
    {
     "name": "stdout",
     "output_type": "stream",
     "text": [
      "Train Loss = 317.7541 | Masked Node Accuracy = 100.00%\n",
      "Epoch 12: Train Loss = 0.7846, Val Loss = 0.7816\n"
     ]
    },
    {
     "name": "stderr",
     "output_type": "stream",
     "text": [
      "100%|██████████| 405/405 [00:05<00:00, 69.89it/s]\n"
     ]
    },
    {
     "name": "stdout",
     "output_type": "stream",
     "text": [
      "Train Loss = 314.8401 | Masked Node Accuracy = 100.00%\n",
      "Epoch 13: Train Loss = 0.7774, Val Loss = 0.7748\n"
     ]
    },
    {
     "name": "stderr",
     "output_type": "stream",
     "text": [
      "100%|██████████| 405/405 [00:05<00:00, 69.45it/s]\n"
     ]
    },
    {
     "name": "stdout",
     "output_type": "stream",
     "text": [
      "Train Loss = 312.2913 | Masked Node Accuracy = 100.00%\n",
      "Epoch 14: Train Loss = 0.7711, Val Loss = 0.7693\n"
     ]
    },
    {
     "name": "stderr",
     "output_type": "stream",
     "text": [
      "100%|██████████| 405/405 [00:05<00:00, 69.89it/s]\n"
     ]
    },
    {
     "name": "stdout",
     "output_type": "stream",
     "text": [
      "Train Loss = 310.1908 | Masked Node Accuracy = 100.00%\n",
      "Epoch 15: Train Loss = 0.7659, Val Loss = 0.7645\n"
     ]
    },
    {
     "name": "stderr",
     "output_type": "stream",
     "text": [
      "100%|██████████| 405/405 [00:06<00:00, 65.51it/s]\n"
     ]
    },
    {
     "name": "stdout",
     "output_type": "stream",
     "text": [
      "Train Loss = 308.4405 | Masked Node Accuracy = 100.00%\n",
      "Epoch 16: Train Loss = 0.7616, Val Loss = 0.7604\n"
     ]
    },
    {
     "name": "stderr",
     "output_type": "stream",
     "text": [
      "100%|██████████| 405/405 [00:05<00:00, 69.87it/s]\n"
     ]
    },
    {
     "name": "stdout",
     "output_type": "stream",
     "text": [
      "Train Loss = 306.9544 | Masked Node Accuracy = 100.00%\n",
      "Epoch 17: Train Loss = 0.7579, Val Loss = 0.7569\n"
     ]
    },
    {
     "name": "stderr",
     "output_type": "stream",
     "text": [
      "100%|██████████| 405/405 [00:05<00:00, 70.11it/s]\n"
     ]
    },
    {
     "name": "stdout",
     "output_type": "stream",
     "text": [
      "Train Loss = 305.6083 | Masked Node Accuracy = 100.00%\n",
      "Epoch 18: Train Loss = 0.7546, Val Loss = 0.7539\n"
     ]
    },
    {
     "name": "stderr",
     "output_type": "stream",
     "text": [
      "100%|██████████| 405/405 [00:05<00:00, 69.60it/s]\n"
     ]
    },
    {
     "name": "stdout",
     "output_type": "stream",
     "text": [
      "Train Loss = 304.4156 | Masked Node Accuracy = 100.00%\n",
      "Epoch 19: Train Loss = 0.7516, Val Loss = 0.7511\n"
     ]
    },
    {
     "name": "stderr",
     "output_type": "stream",
     "text": [
      "100%|██████████| 405/405 [00:05<00:00, 67.97it/s]\n"
     ]
    },
    {
     "name": "stdout",
     "output_type": "stream",
     "text": [
      "Train Loss = 303.3885 | Masked Node Accuracy = 100.00%\n",
      "Epoch 20: Train Loss = 0.7491, Val Loss = 0.7488\n"
     ]
    },
    {
     "name": "stderr",
     "output_type": "stream",
     "text": [
      "100%|██████████| 405/405 [00:05<00:00, 68.85it/s]\n"
     ]
    },
    {
     "name": "stdout",
     "output_type": "stream",
     "text": [
      "Train Loss = 302.4587 | Masked Node Accuracy = 100.00%\n",
      "Epoch 21: Train Loss = 0.7468, Val Loss = 0.7467\n"
     ]
    },
    {
     "name": "stderr",
     "output_type": "stream",
     "text": [
      "100%|██████████| 405/405 [00:05<00:00, 69.48it/s]\n"
     ]
    },
    {
     "name": "stdout",
     "output_type": "stream",
     "text": [
      "Train Loss = 301.6597 | Masked Node Accuracy = 100.00%\n",
      "Epoch 22: Train Loss = 0.7448, Val Loss = 0.7448\n"
     ]
    },
    {
     "name": "stderr",
     "output_type": "stream",
     "text": [
      "100%|██████████| 405/405 [00:05<00:00, 70.12it/s]\n"
     ]
    },
    {
     "name": "stdout",
     "output_type": "stream",
     "text": [
      "Train Loss = 301.0043 | Masked Node Accuracy = 100.00%\n",
      "Epoch 23: Train Loss = 0.7432, Val Loss = 0.7432\n"
     ]
    },
    {
     "name": "stderr",
     "output_type": "stream",
     "text": [
      "100%|██████████| 405/405 [00:05<00:00, 70.23it/s]\n"
     ]
    },
    {
     "name": "stdout",
     "output_type": "stream",
     "text": [
      "Train Loss = 300.3483 | Masked Node Accuracy = 100.00%\n",
      "Epoch 24: Train Loss = 0.7416, Val Loss = 0.7417\n"
     ]
    },
    {
     "name": "stderr",
     "output_type": "stream",
     "text": [
      "100%|██████████| 405/405 [00:05<00:00, 71.92it/s]\n"
     ]
    },
    {
     "name": "stdout",
     "output_type": "stream",
     "text": [
      "Train Loss = 299.6976 | Masked Node Accuracy = 100.00%\n",
      "Epoch 25: Train Loss = 0.7400, Val Loss = 0.7403\n"
     ]
    },
    {
     "name": "stderr",
     "output_type": "stream",
     "text": [
      "100%|██████████| 405/405 [00:05<00:00, 71.62it/s]\n"
     ]
    },
    {
     "name": "stdout",
     "output_type": "stream",
     "text": [
      "Train Loss = 299.2076 | Masked Node Accuracy = 100.00%\n",
      "Epoch 26: Train Loss = 0.7388, Val Loss = 0.7391\n"
     ]
    },
    {
     "name": "stderr",
     "output_type": "stream",
     "text": [
      "100%|██████████| 405/405 [00:05<00:00, 71.99it/s]\n"
     ]
    },
    {
     "name": "stdout",
     "output_type": "stream",
     "text": [
      "Train Loss = 298.7729 | Masked Node Accuracy = 100.00%\n",
      "Epoch 27: Train Loss = 0.7377, Val Loss = 0.7381\n"
     ]
    },
    {
     "name": "stderr",
     "output_type": "stream",
     "text": [
      "100%|██████████| 405/405 [00:05<00:00, 71.52it/s]\n"
     ]
    },
    {
     "name": "stdout",
     "output_type": "stream",
     "text": [
      "Train Loss = 298.4030 | Masked Node Accuracy = 100.00%\n",
      "Epoch 28: Train Loss = 0.7368, Val Loss = 0.7371\n"
     ]
    },
    {
     "name": "stderr",
     "output_type": "stream",
     "text": [
      "100%|██████████| 405/405 [00:05<00:00, 73.27it/s]\n"
     ]
    },
    {
     "name": "stdout",
     "output_type": "stream",
     "text": [
      "Train Loss = 298.0366 | Masked Node Accuracy = 100.00%\n",
      "Epoch 29: Train Loss = 0.7359, Val Loss = 0.7362\n"
     ]
    },
    {
     "name": "stderr",
     "output_type": "stream",
     "text": [
      "100%|██████████| 405/405 [00:05<00:00, 71.78it/s]\n"
     ]
    },
    {
     "name": "stdout",
     "output_type": "stream",
     "text": [
      "Train Loss = 297.6552 | Masked Node Accuracy = 100.00%\n",
      "Epoch 30: Train Loss = 0.7350, Val Loss = 0.7354\n"
     ]
    },
    {
     "name": "stderr",
     "output_type": "stream",
     "text": [
      "100%|██████████| 405/405 [00:05<00:00, 72.87it/s]\n"
     ]
    },
    {
     "name": "stdout",
     "output_type": "stream",
     "text": [
      "Train Loss = 297.3910 | Masked Node Accuracy = 100.00%\n",
      "Epoch 31: Train Loss = 0.7343, Val Loss = 0.7347\n"
     ]
    },
    {
     "name": "stderr",
     "output_type": "stream",
     "text": [
      "100%|██████████| 405/405 [00:05<00:00, 72.16it/s]\n"
     ]
    },
    {
     "name": "stdout",
     "output_type": "stream",
     "text": [
      "Train Loss = 297.1058 | Masked Node Accuracy = 100.00%\n",
      "Epoch 32: Train Loss = 0.7336, Val Loss = 0.7340\n"
     ]
    },
    {
     "name": "stderr",
     "output_type": "stream",
     "text": [
      "100%|██████████| 405/405 [00:05<00:00, 71.66it/s]\n"
     ]
    },
    {
     "name": "stdout",
     "output_type": "stream",
     "text": [
      "Train Loss = 296.8399 | Masked Node Accuracy = 100.00%\n",
      "Epoch 33: Train Loss = 0.7329, Val Loss = 0.7334\n"
     ]
    },
    {
     "name": "stderr",
     "output_type": "stream",
     "text": [
      "100%|██████████| 405/405 [00:05<00:00, 71.82it/s]\n"
     ]
    },
    {
     "name": "stdout",
     "output_type": "stream",
     "text": [
      "Train Loss = 296.6330 | Masked Node Accuracy = 100.00%\n",
      "Epoch 34: Train Loss = 0.7324, Val Loss = 0.7329\n"
     ]
    },
    {
     "name": "stderr",
     "output_type": "stream",
     "text": [
      "100%|██████████| 405/405 [00:05<00:00, 71.63it/s]\n"
     ]
    },
    {
     "name": "stdout",
     "output_type": "stream",
     "text": [
      "Train Loss = 296.4183 | Masked Node Accuracy = 100.00%\n",
      "Epoch 35: Train Loss = 0.7319, Val Loss = 0.7324\n"
     ]
    },
    {
     "name": "stderr",
     "output_type": "stream",
     "text": [
      "100%|██████████| 405/405 [00:05<00:00, 71.67it/s]\n"
     ]
    },
    {
     "name": "stdout",
     "output_type": "stream",
     "text": [
      "Train Loss = 296.1892 | Masked Node Accuracy = 100.00%\n",
      "Epoch 36: Train Loss = 0.7313, Val Loss = 0.7319\n"
     ]
    },
    {
     "name": "stderr",
     "output_type": "stream",
     "text": [
      "100%|██████████| 405/405 [00:05<00:00, 72.04it/s]\n"
     ]
    },
    {
     "name": "stdout",
     "output_type": "stream",
     "text": [
      "Train Loss = 296.0433 | Masked Node Accuracy = 100.00%\n",
      "Epoch 37: Train Loss = 0.7310, Val Loss = 0.7315\n"
     ]
    },
    {
     "name": "stderr",
     "output_type": "stream",
     "text": [
      "100%|██████████| 405/405 [00:05<00:00, 72.88it/s]\n"
     ]
    },
    {
     "name": "stdout",
     "output_type": "stream",
     "text": [
      "Train Loss = 295.8627 | Masked Node Accuracy = 100.00%\n",
      "Epoch 38: Train Loss = 0.7305, Val Loss = 0.7311\n"
     ]
    },
    {
     "name": "stderr",
     "output_type": "stream",
     "text": [
      "100%|██████████| 405/405 [00:05<00:00, 72.33it/s]\n"
     ]
    },
    {
     "name": "stdout",
     "output_type": "stream",
     "text": [
      "Train Loss = 295.7302 | Masked Node Accuracy = 100.00%\n",
      "Epoch 39: Train Loss = 0.7302, Val Loss = 0.7308\n"
     ]
    },
    {
     "name": "stderr",
     "output_type": "stream",
     "text": [
      "100%|██████████| 405/405 [00:05<00:00, 71.40it/s]\n"
     ]
    },
    {
     "name": "stdout",
     "output_type": "stream",
     "text": [
      "Train Loss = 295.5675 | Masked Node Accuracy = 100.00%\n",
      "Epoch 40: Train Loss = 0.7298, Val Loss = 0.7304\n"
     ]
    },
    {
     "name": "stderr",
     "output_type": "stream",
     "text": [
      "100%|██████████| 405/405 [00:05<00:00, 72.07it/s]\n"
     ]
    },
    {
     "name": "stdout",
     "output_type": "stream",
     "text": [
      "Train Loss = 295.4643 | Masked Node Accuracy = 100.00%\n",
      "Epoch 41: Train Loss = 0.7295, Val Loss = 0.7301\n"
     ]
    },
    {
     "name": "stderr",
     "output_type": "stream",
     "text": [
      "100%|██████████| 405/405 [00:05<00:00, 70.95it/s]\n"
     ]
    },
    {
     "name": "stdout",
     "output_type": "stream",
     "text": [
      "Train Loss = 295.3853 | Masked Node Accuracy = 100.00%\n",
      "Epoch 42: Train Loss = 0.7293, Val Loss = 0.7299\n"
     ]
    },
    {
     "name": "stderr",
     "output_type": "stream",
     "text": [
      "100%|██████████| 405/405 [00:05<00:00, 72.87it/s]\n"
     ]
    },
    {
     "name": "stdout",
     "output_type": "stream",
     "text": [
      "Train Loss = 295.1599 | Masked Node Accuracy = 100.00%\n",
      "Epoch 43: Train Loss = 0.7288, Val Loss = 0.7296\n"
     ]
    },
    {
     "name": "stderr",
     "output_type": "stream",
     "text": [
      "100%|██████████| 405/405 [00:05<00:00, 72.27it/s]\n"
     ]
    },
    {
     "name": "stdout",
     "output_type": "stream",
     "text": [
      "Train Loss = 295.0850 | Masked Node Accuracy = 100.00%\n",
      "Epoch 44: Train Loss = 0.7286, Val Loss = 0.7294\n"
     ]
    },
    {
     "name": "stderr",
     "output_type": "stream",
     "text": [
      "100%|██████████| 405/405 [00:05<00:00, 71.85it/s]\n"
     ]
    },
    {
     "name": "stdout",
     "output_type": "stream",
     "text": [
      "Train Loss = 295.0150 | Masked Node Accuracy = 100.00%\n",
      "Epoch 45: Train Loss = 0.7284, Val Loss = 0.7292\n"
     ]
    },
    {
     "name": "stderr",
     "output_type": "stream",
     "text": [
      "100%|██████████| 405/405 [00:05<00:00, 73.37it/s]\n"
     ]
    },
    {
     "name": "stdout",
     "output_type": "stream",
     "text": [
      "Train Loss = 294.9188 | Masked Node Accuracy = 100.00%\n",
      "Epoch 46: Train Loss = 0.7282, Val Loss = 0.7290\n"
     ]
    },
    {
     "name": "stderr",
     "output_type": "stream",
     "text": [
      "100%|██████████| 405/405 [00:05<00:00, 71.52it/s]\n"
     ]
    },
    {
     "name": "stdout",
     "output_type": "stream",
     "text": [
      "Train Loss = 294.8206 | Masked Node Accuracy = 100.00%\n",
      "Epoch 47: Train Loss = 0.7280, Val Loss = 0.7288\n"
     ]
    },
    {
     "name": "stderr",
     "output_type": "stream",
     "text": [
      "100%|██████████| 405/405 [00:05<00:00, 71.81it/s]\n"
     ]
    },
    {
     "name": "stdout",
     "output_type": "stream",
     "text": [
      "Train Loss = 294.8225 | Masked Node Accuracy = 100.00%\n",
      "Epoch 48: Train Loss = 0.7280, Val Loss = 0.7286\n"
     ]
    },
    {
     "name": "stderr",
     "output_type": "stream",
     "text": [
      "100%|██████████| 405/405 [00:05<00:00, 72.19it/s]\n"
     ]
    },
    {
     "name": "stdout",
     "output_type": "stream",
     "text": [
      "Train Loss = 294.7276 | Masked Node Accuracy = 100.00%\n",
      "Epoch 49: Train Loss = 0.7277, Val Loss = 0.7284\n"
     ]
    },
    {
     "name": "stderr",
     "output_type": "stream",
     "text": [
      "100%|██████████| 405/405 [00:05<00:00, 71.66it/s]\n"
     ]
    },
    {
     "name": "stdout",
     "output_type": "stream",
     "text": [
      "Train Loss = 294.6377 | Masked Node Accuracy = 100.00%\n",
      "Epoch 50: Train Loss = 0.7275, Val Loss = 0.7283\n"
     ]
    }
   ],
   "source": [
    "device = torch.device(\"cpu\")\n",
    "model = GraphTransformer().to(device)\n",
    "optimizer = torch.optim.Adam(model.parameters(), lr=1e-3)\n",
    "\n",
    "for epoch in range(1, 51):\n",
    "    train_loss = train(model, train_loader, optimizer, device)\n",
    "    val_loss = validate(model, val_loader, device)\n",
    "    print(f\"Epoch {epoch}: Train Loss = {train_loss:.4f}, Val Loss = {val_loss:.4f}\")"
   ]
  },
  {
   "cell_type": "code",
   "execution_count": null,
   "id": "fce27e01",
   "metadata": {},
   "outputs": [],
   "source": []
  }
 ],
 "metadata": {
  "kernelspec": {
   "display_name": "Python 3",
   "language": "python",
   "name": "python3"
  },
  "language_info": {
   "codemirror_mode": {
    "name": "ipython",
    "version": 3
   },
   "file_extension": ".py",
   "mimetype": "text/x-python",
   "name": "python",
   "nbconvert_exporter": "python",
   "pygments_lexer": "ipython3",
   "version": "3.11.4"
  }
 },
 "nbformat": 4,
 "nbformat_minor": 5
}
